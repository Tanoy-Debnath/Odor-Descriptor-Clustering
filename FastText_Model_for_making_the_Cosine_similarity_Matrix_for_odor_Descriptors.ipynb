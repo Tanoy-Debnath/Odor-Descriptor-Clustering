{
  "nbformat": 4,
  "nbformat_minor": 0,
  "metadata": {
    "colab": {
      "name": "FastText Model for making the Cosine similarity Matrix for odor Descriptors.ipynb",
      "provenance": [],
      "collapsed_sections": [],
      "include_colab_link": true
    },
    "kernelspec": {
      "display_name": "Python 3",
      "language": "python",
      "name": "python3"
    },
    "language_info": {
      "codemirror_mode": {
        "name": "ipython",
        "version": 3
      },
      "file_extension": ".py",
      "mimetype": "text/x-python",
      "name": "python",
      "nbconvert_exporter": "python",
      "pygments_lexer": "ipython3",
      "version": "3.8.5"
    }
  },
  "cells": [
    {
      "cell_type": "markdown",
      "metadata": {
        "id": "view-in-github",
        "colab_type": "text"
      },
      "source": [
        "<a href=\"https://colab.research.google.com/github/Tanoy-Debnath/Odor-Descriptor-Clustering/blob/main/FastText_Model_for_making_the_Cosine_similarity_Matrix_for_odor_Descriptors.ipynb\" target=\"_parent\"><img src=\"https://colab.research.google.com/assets/colab-badge.svg\" alt=\"Open In Colab\"/></a>"
      ]
    },
    {
      "cell_type": "code",
      "metadata": {
        "colab": {
          "base_uri": "https://localhost:8080/"
        },
        "id": "oA4YJNgDbTWD",
        "outputId": "0a070bc1-67ee-40e6-ff09-9da6608c3ad4"
      },
      "source": [
        "import numpy as np\n",
        "import csv\n",
        "import xlrd\n",
        "import openpyxl\n",
        "\n",
        "\n",
        "! pip install -U gensim\n",
        "# Get the interactive Tools for Matplotlib\n",
        "%matplotlib notebook\n",
        "import matplotlib.pyplot as plt\n",
        "plt.style.use('ggplot')\n",
        "\n",
        "\n",
        "\n"
      ],
      "execution_count": null,
      "outputs": [
        {
          "output_type": "stream",
          "name": "stdout",
          "text": [
            "Requirement already satisfied: gensim in /usr/local/lib/python3.7/dist-packages (3.6.0)\n",
            "Collecting gensim\n",
            "  Downloading gensim-4.1.2-cp37-cp37m-manylinux_2_12_x86_64.manylinux2010_x86_64.whl (24.1 MB)\n",
            "\u001b[K     |████████████████████████████████| 24.1 MB 1.5 MB/s \n",
            "\u001b[?25hRequirement already satisfied: scipy>=0.18.1 in /usr/local/lib/python3.7/dist-packages (from gensim) (1.4.1)\n",
            "Requirement already satisfied: smart-open>=1.8.1 in /usr/local/lib/python3.7/dist-packages (from gensim) (5.2.1)\n",
            "Requirement already satisfied: numpy>=1.17.0 in /usr/local/lib/python3.7/dist-packages (from gensim) (1.19.5)\n",
            "Installing collected packages: gensim\n",
            "  Attempting uninstall: gensim\n",
            "    Found existing installation: gensim 3.6.0\n",
            "    Uninstalling gensim-3.6.0:\n",
            "      Successfully uninstalled gensim-3.6.0\n",
            "Successfully installed gensim-4.1.2\n"
          ]
        }
      ]
    },
    {
      "cell_type": "code",
      "metadata": {
        "id": "p97SPsU6bTWJ"
      },
      "source": [
        "\n",
        "from gensim.models import KeyedVectors"
      ],
      "execution_count": null,
      "outputs": []
    },
    {
      "cell_type": "code",
      "metadata": {
        "id": "oaT9KSrnbTWK"
      },
      "source": [
        "csvFile = open(\"adj\", 'wt', newline = '', encoding = 'utf-8')\n",
        "writer = csv.writer(csvFile)\n"
      ],
      "execution_count": null,
      "outputs": []
    },
    {
      "cell_type": "code",
      "metadata": {
        "colab": {
          "base_uri": "https://localhost:8080/"
        },
        "id": "BQ__c2dIdVJN",
        "outputId": "b0f486aa-4239-4048-f33f-00431584ca7d"
      },
      "source": [
        "from google.colab import drive\n",
        "drive.mount('/content/drive')"
      ],
      "execution_count": null,
      "outputs": [
        {
          "output_type": "stream",
          "name": "stdout",
          "text": [
            "Mounted at /content/drive\n"
          ]
        }
      ]
    },
    {
      "cell_type": "code",
      "metadata": {
        "id": "SmF5-nDZbTWK"
      },
      "source": [
        "model = KeyedVectors.load_word2vec_format('/content/drive/MyDrive/wiki.en.vec')\n",
        "\n"
      ],
      "execution_count": null,
      "outputs": []
    },
    {
      "cell_type": "code",
      "metadata": {
        "colab": {
          "base_uri": "https://localhost:8080/"
        },
        "id": "mjRh0xfEbTWL",
        "outputId": "56b87404-bece-4d2c-fd2a-5bfeb1d4e55d"
      },
      "source": [
        "# Getting the tokens \n",
        "words = list(model.key_to_index.keys())\n",
        "\n",
        "# Printing out number of tokens available\n",
        "print(\"Number of Tokens: {}\".format(len(words)))\n",
        "\n",
        "# Printing out the dimension of a word vector \n",
        "print(\"Dimension of a word vector: {}\".format(\n",
        "    len(model[words[0]])\n",
        "))\n",
        "\n",
        "\n"
      ],
      "execution_count": null,
      "outputs": [
        {
          "output_type": "stream",
          "name": "stdout",
          "text": [
            "Number of Tokens: 2519370\n",
            "Dimension of a word vector: 300\n"
          ]
        }
      ]
    },
    {
      "cell_type": "code",
      "metadata": {
        "colab": {
          "base_uri": "https://localhost:8080/"
        },
        "id": "az7R0M37bTWL",
        "outputId": "8bdd6659-7ca2-4ffd-e84f-c8ce22f48132"
      },
      "source": [
        "# Pick a word \n",
        "find_similar_to = 'rose'\n",
        "\n",
        "# Finding out similar words [default= top 10]\n",
        "for similar_word in model.similar_by_word(find_similar_to):\n",
        "    print(\"Word: {0}, Similarity: {1:.2f}\".format(\n",
        "        similar_word[0], similar_word[1]\n",
        "    ))"
      ],
      "execution_count": null,
      "outputs": [
        {
          "output_type": "stream",
          "name": "stdout",
          "text": [
            "Word: roses, Similarity: 0.60\n",
            "Word: risen, Similarity: 0.51\n",
            "Word: soared, Similarity: 0.50\n",
            "Word: lily, Similarity: 0.49\n",
            "Word: rising, Similarity: 0.49\n",
            "Word: carnations, Similarity: 0.49\n",
            "Word: violets, Similarity: 0.48\n",
            "Word: gold#rose, Similarity: 0.47\n",
            "Word: blossom, Similarity: 0.47\n",
            "Word: roseford, Similarity: 0.47\n"
          ]
        }
      ]
    },
    {
      "cell_type": "code",
      "metadata": {
        "colab": {
          "base_uri": "https://localhost:8080/"
        },
        "id": "lF4H2VB4bTWN",
        "outputId": "955e72a1-5898-4fbf-ce83-43db76e8012a"
      },
      "source": [
        "model.similarity(\"sweet\", \"lemon\")"
      ],
      "execution_count": null,
      "outputs": [
        {
          "output_type": "execute_result",
          "data": {
            "text/plain": [
              "0.535453"
            ]
          },
          "metadata": {},
          "execution_count": 9
        }
      ]
    },
    {
      "cell_type": "code",
      "metadata": {
        "id": "vhnXWVeebTWN"
      },
      "source": [
        "\n",
        "wb = xlrd.open_workbook('/content/drive/MyDrive/Chemicals_adjex.xlsm')\n",
        "sheets = wb.sheets()\n",
        "sheet = wb.sheet_by_index(0)\n",
        "\n",
        "row = [[None for p in range(sheet.ncols)] for q in range(sheet.nrows)]\n",
        "col = [[None for p in range(sheet.ncols)] for q in range(sheet.nrows)]\n",
        "\n",
        "for y in range(sheet.nrows):\n",
        "    for x in range(sheet.ncols):\n",
        "        row[y][x]=sheet.cell(y,x).value\n",
        "col=row\n",
        "\n",
        "vec=[0]*sheet.nrows\n",
        "for k in range(sheet.nrows):\n",
        "    for i in range(sheet.nrows):\n",
        "        try:\n",
        "            if k==i :\n",
        "                vec[i] = 0\n",
        "            else:\n",
        "                vec[i] = 1-model.similarity(row[k][0], col[i][0])\n",
        "        except KeyError:\n",
        "            pass\n",
        "    print(vec)\n",
        "    writer.writerow(vec)"
      ],
      "execution_count": null,
      "outputs": []
    }
  ]
}